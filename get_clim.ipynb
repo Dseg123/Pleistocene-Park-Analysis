{
 "cells": [
  {
   "cell_type": "code",
   "execution_count": null,
   "metadata": {},
   "outputs": [],
   "source": [
    "import pandas as pd\n",
    "import numpy as np\n",
    "from osgeo import gdal\n",
    "from osgeo import osr"
   ]
  },
  {
   "cell_type": "code",
   "execution_count": null,
   "metadata": {},
   "outputs": [],
   "source": [
    "tuples = {}\n",
    "for var_num in range(1, 20):\n",
    "    print(var_num)\n",
    "    file_path = \"wc2.1_10m_bio/wc2.1_10m_bio_\" + str(var_num) + \".tif\"\n",
    "    # Open the file\n",
    "    src = gdal.Open(file_path)\n",
    "\n",
    "    # Get the pixel values as a numpy array\n",
    "    data = src.ReadAsArray()\n",
    "\n",
    "    # Get the geotransform (mapping from pixel coordinates to geographic coordinates)\n",
    "    geotransform = src.GetGeoTransform()\n",
    "\n",
    "    # Get the spatial reference system (SRS) of the raster\n",
    "    srs = src.GetProjection()\n",
    "\n",
    "    # Define the source CRS\n",
    "    src_crs = osr.SpatialReference()\n",
    "    src_crs.ImportFromWkt(src.GetProjection())\n",
    "    #print(src_crs)\n",
    "\n",
    "    # Define the target CRS (WGS84)\n",
    "    target_crs = osr.SpatialReference()\n",
    "    target_crs.SetWellKnownGeogCS(\"WGS84\")\n",
    "    #print(target_crs)\n",
    "\n",
    "    # Create a coordinate transformation object\n",
    "    transform = osr.CoordinateTransformation(src_crs, target_crs)\n",
    "\n",
    "    # Get the coordinates of the pixels\n",
    "    cols, rows = data.shape[1], data.shape[0]\n",
    "    trash_val = data.min()\n",
    "    for y in range(rows):\n",
    "        for x in range(cols):\n",
    "            # Convert pixel coordinates to geographic coordinates\n",
    "            if data[y,x] != trash_val:\n",
    "                lon_, lat_ = gdal.ApplyGeoTransform(geotransform, x, y)\n",
    "                lon_, lat_, z = transform.TransformPoint(lon_, lat_)\n",
    "                if (lon_, lat_) not in tuples:\n",
    "                    tuples[(lon_, lat_)] = {var_num: data[y,x]}\n",
    "                else:\n",
    "                    tuples[(lon_, lat_)][var_num] = data[y,x]"
   ]
  },
  {
   "cell_type": "code",
   "execution_count": null,
   "metadata": {},
   "outputs": [],
   "source": [
    "dataset = []\n",
    "for key in tuples:\n",
    "    new_sample = {'lon': key[0], 'lat': key[1]}\n",
    "    for i in tuples[key]:\n",
    "        new_sample['var_' + str(i)] = tuples[key][i]\n",
    "    dataset.append(new_sample)"
   ]
  },
  {
   "cell_type": "code",
   "execution_count": null,
   "metadata": {},
   "outputs": [],
   "source": [
    "df = pd.DataFrame(dataset)\n",
    "df.to_csv('all_clim_data.csv', index=False)"
   ]
  },
  {
   "cell_type": "code",
   "execution_count": null,
   "metadata": {},
   "outputs": [],
   "source": [
    "background_df = df.copy()\n",
    "background_df['Species'] = 'background'\n",
    "old_cols = ['Species', 'lon', 'lat'] + ['var_' + str(i) for i in range(1, 20)]\n",
    "cols = ['Species', 'X', 'Y'] + ['Var' + str(i) for i in range(1, 20)]\n",
    "background_df[cols] = background_df[old_cols]\n",
    "background_df = background_df.drop(columns=old_cols)\n",
    "background_df['Species'] = 'background'\n",
    "background_df.to_csv('background.csv', index=False)"
   ]
  }
 ],
 "metadata": {
  "language_info": {
   "name": "python"
  },
  "orig_nbformat": 4
 },
 "nbformat": 4,
 "nbformat_minor": 2
}
